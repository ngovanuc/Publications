{
 "cells": [
  {
   "cell_type": "markdown",
   "metadata": {},
   "source": [
    "# references\n",
    "\n",
    "- https://journals.plos.org/plosone/article?id=10.1371/journal.pone.0177544\n",
    "- https://ieeexplore.ieee.org/abstract/document/8353225\n",
    "- https://link.springer.com/chapter/10.1007/978-3-319-93000-8_92\n",
    "- https://www.sciencedirect.com/science/article/abs/pii/S0020025518310466\n",
    "- https://link.springer.com/chapter/10.1007/978-3-319-93000-8_99\n",
    "- https://ieeexplore.ieee.org/abstract/document/8873545\n",
    "- https://link.springer.com/chapter/10.1007/978-3-319-93000-8_87\n",
    "- https://link.springer.com/chapter/10.1007/978-3-319-93000-8_95\n",
    "- https://arxiv.org/abs/1606.05718\n",
    "- https://www.sciencedirect.com/science/article/pii/S0923753421044860\n",
    "- https://www.sciencedirect.com/science/article/abs/pii/S0010482522007818\n",
    "- https://d1wqtxts1xzle7.cloudfront.net/71534975/f55bc7f5d3d90bd5cb239c0202b3428b6aa2-libre.pdf?1635310743=&response-content-disposition=inline%3B+filename%3DMulti_Class_Breast_Cancer_Classification.pdf&Expires=1717640291&Signature=DqSMIJ1beCpY~cDNDJrr8SZaPTCoE7tnmDqTNnA9YfoqfiSwOSHsfSRq8tefzIxyhJXM4eoeEpXUV8iXS2kn4tpDXVc46mKkY4qS1P~Ggi1mUPm74gcBPeXatwIbpMDxgdi7~fCmv8LcuN1a8raMtxSQ0kIgyyMIHZjbC2Adc6RbjTilEG1UkW35q2kh5RGJZSgU7lcwAUHKXBYsSYGykcNmr62-yNeKpBzYbvdSmW~pAMtwVqj2E0AlDnFoLHT0JeqiFm-IGQ-QKFa5LPeTJ~nc5THC7XyUIFFkza6Jh1FgLhHnvQ-Cj~TsvUFsubK~e8E1XbQHrbdDRBe8lG5FMA__&Key-Pair-Id=APKAJLOHF5GGSLRBV4ZA\n",
    "- https://iopscience.iop.org/article/10.1088/1757-899X/1022/1/012071/meta"
   ]
  },
  {
   "cell_type": "markdown",
   "metadata": {},
   "source": [
    "### Classification of breast cancer histology images using Convolutional Neural Networks\n",
    "\n",
    "Link: https://journals.plos.org/plosone/article?id=10.1371/journal.pone.0177544\n",
    "\n",
    "Citation: Araújo T, Aresta G, Castro E, Rouco J, Aguiar P, Eloy C, et al. (2017) Classification of breast cancer histology images using Convolutional Neural Networks. PLoS ONE 12(6): e0177544. https://doi.org/10.1371/journal.pone.0177544\n",
    "\n",
    "Phương pháp: Một phương pháp phân loại hình ảnh sinh thiết vú nhuộm hematoxylin và eosin bằng Mạng thần kinh chuyển đổi (CNN)\n",
    "Hình ảnh được phân thành bốn loại, mô bình thường, tổn thương lành tính, ung thư biểu mô tại chỗ và ung thư biểu mô xâm lấn, và hai loại, ung thư biểu mô và không ung thư\n",
    "\n",
    "Kết quả: Các tính năng được CNN trích xuất cũng được sử dụng để đào tạo bộ phân loại Máy Vector hỗ trợ. Đạt được độ chính xác 77,8% đối với bốn loại và 83,3% đối với ung thư biểu mô/không ung thư. Độ nhạy của phương pháp của chúng tôi đối với các trường hợp ung thư là 95,6%"
   ]
  },
  {
   "cell_type": "markdown",
   "metadata": {},
   "source": [
    "### Classification of Breast Cancer Histology Images Using Transfer Learning\n",
    "\n",
    "Link: https://ieeexplore.ieee.org/abstract/document/8667221\n",
    "\n",
    "Citation: H. M. Ahmad, S. Ghuffar and K. Khurshid, \"Classification of Breast Cancer Histology Images Using Transfer Learning,\" 2019 16th International Bhurban Conference on Applied Sciences and Technology (IBCAST), Islamabad, Pakistan, 2019, pp. 328-332, doi: 10.1109/IBCAST.2019.8667221. keywords: {Breast cancer;Training;Feature extraction;Computer architecture;Computational modeling;Deep learning;AlexNet;GoogleNet;ResNet;Breast Cancer},\n",
    "\n",
    "\n",
    "Phương pháp: phân loại hình ảnh mô học thành bốn loại, tức là Ung thư bình thường, Ung thư lành tính, Ung thư biểu mô tại chỗ và Ung thư biểu mô xâm lấn. Chúng tôi đã áp dụng phương pháp học chuyển giao dựa trên AlexNet, GoogleNet và ResNet để có thể phân loại hình. Cách tiếp cận này đã mang lại độ chính xác 85% trong trường hợp ResNet là cao nhất trong số các phương pháp khác\n"
   ]
  },
  {
   "cell_type": "markdown",
   "metadata": {},
   "source": [
    "### A Review Paper on Breast Cancer Detection Using Deep Learning\n",
    "\n",
    "link: https://iopscience.iop.org/article/10.1088/1757-899X/1022/1/012071/meta\n",
    "\n",
    "Citation: Kumar Sanjeev Priyanka 2021 IOP Conf. Ser.: Mater. Sci. Eng. 1022 012071\n",
    "\n",
    "Phương pháp: Các thuật toán học máy như cây quyết định, KNN, SVM, vịnh ngây thơ, v.v. mang lại hiệu suất tốt hơn trong lĩnh vực của riêng chúng. Nhưng ngày nay, một kỹ thuật phát triển mới được sử dụng để phân loại ung thư vú. Kỹ thuật mới được phát triển là học sâu. Học sâu được sử dụng để khắc phục những hạn chế của học máy. Một kỹ thuật học sâu được sử dụng nhiều nhất trong khoa học dữ liệu là Mạng thần kinh Convolution, Mạng thần kinh tái phát, mạng niềm tin sâu, v.v. Các thuật toán học sâu cho kết quả tốt hơn so với học máy. Nó trích xuất các tính năng tốt nhất của hình ảnh. Trong nghiên cứu của chúng tôi, CNN được sử dụng để phân loại hình ảnh. Về cơ bản nghiên cứu của chúng tôi dựa trên hình ảnh và CNN là kỹ thuật phổ biến nhất để phân loại hình ảnh. Trong bài báo này, đánh giá của tất cả các tác giả được tiến hành\n"
   ]
  },
  {
   "cell_type": "markdown",
   "metadata": {},
   "source": [
    "### Multi-Class Breast Cancer Classification using Deep Learning Convolutional Neural Network \n",
    "\n",
    "link: https://d1wqtxts1xzle7.cloudfront.net/71534975/f55bc7f5d3d90bd5cb239c0202b3428b6aa2-libre.pdf?1635310743=&response-content-disposition=inline%3B+filename%3DMulti_Class_Breast_Cancer_Classification.pdf&Expires=1717640291&Signature=DqSMIJ1beCpY~cDNDJrr8SZaPTCoE7tnmDqTNnA9YfoqfiSwOSHsfSRq8tefzIxyhJXM4eoeEpXUV8iXS2kn4tpDXVc46mKkY4qS1P~Ggi1mUPm74gcBPeXatwIbpMDxgdi7~fCmv8LcuN1a8raMtxSQ0kIgyyMIHZjbC2Adc6RbjTilEG1UkW35q2kh5RGJZSgU7lcwAUHKXBYsSYGykcNmr62-yNeKpBzYbvdSmW~pAMtwVqj2E0AlDnFoLHT0JeqiFm-IGQ-QKFa5LPeTJ~nc5THC7XyUIFFkza6Jh1FgLhHnvQ-Cj~TsvUFsubK~e8E1XbQHrbdDRBe8lG5FMA__&Key-Pair-Id=APKAJLOHF5GGSLRBV4ZA\n",
    "\n",
    "Citation: Majid Nawaz, Adel A. Sewissy and Taysir Hassan A. Soliman, “Multi-Class Breast Cancer Classification using Deep Learning Convolutional Neural Network” International Journal of Advanced Computer Science and Applications(IJACSA), 9(6), 2018. http://dx.doi.org/10.14569/IJACSA.2018.090645\n",
    "\n",
    "Phương pháp: Trong bài báo này, chúng tôi trình bày một phương pháp học sâu dựa trên mô hình Mạng thần kinh chuyển đổi (CNN) để phân loại ung thư vú nhiều lớp. Cách tiếp cận được đề xuất nhằm mục đích phân loại các khối u vú không chỉ lành tính hoặc ác tính mà chúng tôi dự đoán phân lớp của các khối u như Fibroadenoma, ung thư biểu mô tiểu thùy, v.v\n",
    "\n",
    "Kết quả: Kết quả thực nghiệm trên hình ảnh mô bệnh học sử dụng bộ dữ liệu BreakHis cho thấy mô hình DenseNet CNN đạt được khả năng xử lý cao hiệu suất với độ chính xác 95,4% trong nhiệm vụ phân loại ung thư vú nhiều lớp khi so sánh với các mô hình tiên tiến nhất."
   ]
  },
  {
   "cell_type": "markdown",
   "metadata": {},
   "source": [
    "### Deep Learning for Identifying Metastatic Breast Cancer\n",
    "\n",
    "link: https://arxiv.org/abs/1606.05718\n",
    "\n",
    "citation: arXiv:1606.05718\n",
    "\n",
    "phương pháp + kết quả: đạt được diện tích dưới đường cong vận hành máy thu (AUC) là 0,925 cho nhiệm vụ phân loại toàn bộ hình ảnh slide và điểm 0,7051 cho nhiệm vụ xác định vị trí khối u. Một nhà nghiên cứu bệnh học đã xem xét độc lập các hình ảnh tương tự, thu được toàn bộ phân loại hình ảnh slide AUC là 0,966 và điểm định vị khối u là 0,733. Việc kết hợp các dự đoán của hệ thống học sâu của chúng tôi với các chẩn đoán của nhà nghiên cứu bệnh học ở người đã làm tăng AUC của nhà nghiên cứu bệnh học lên 0,995, thể hiện tỷ lệ lỗi của con người giảm khoảng 85%. Những kết quả này chứng minh sức mạnh của việc sử dụng học sâu để tạo ra những cải thiện đáng kể về độ chính xác của chẩn đoán bệnh lý."
   ]
  },
  {
   "cell_type": "markdown",
   "metadata": {},
   "source": [
    "### Classification of Breast Cancer Histology Using Deep Learning\n",
    "\n",
    "link: https://link.springer.com/chapter/10.1007/978-3-319-93000-8_95#citeas\n",
    "\n",
    "citation: Golatkar, A., Anand, D., Sethi, A. (2018). Classification of Breast Cancer Histology Using Deep Learning. In: Campilho, A., Karray, F., ter Haar Romeny, B. (eds) Image Analysis and Recognition. ICIAR 2018. Lecture Notes in Computer Science(), vol 10882. Springer, Cham. https://doi.org/10.1007/978-3-319-93000-8_95\n",
    "\n",
    "phương pháp: rong bài viết này, chúng tôi đề xuất một phương pháp dựa trên deep learning để phân loại các hình ảnh mô vú nhuộm màu H&E được phát hành cho thử thách BACH [1] bằng cách tinh chỉnh mạng nơ-ron tích chập Inception-v3 (CNN) [9].\n",
    "Những hình ảnh này được phân thành bốn loại – (i) mô bình thường, (ii) tổn thương lành tính, (iii) ung thư biểu mô tại chỗ và (iv) ung thư biểu mô xâm lấn. Chiến lược của chúng tôi là trích xuất các bản vá dựa trên mật độ hạt nhân và loại bỏ các bản vá không giàu hạt nhân, ví dụ: từ các vùng không biểu mô. Điều này cho phép chúng tôi loại bỏ các vùng hình ảnh không có thông tin chính xác so với lấy mẫu ngẫu nhiên hoặc lưới, vì các dấu hiệu trực quan của khối u thể hiện rõ nhất ở biểu mô\n",
    "\n",
    "kết quả: Chúng tôi đạt được độ chính xác trung bình là 85% đối với bốn loại và 93% đối với không phải ung thư (tức là bình thường hoặc lành tính) so với ác tính (ung thư biểu mô tại chỗ hoặc xâm lấn)"
   ]
  },
  {
   "cell_type": "markdown",
   "metadata": {},
   "source": [
    "### Multi-classification of Breast Cancer Histology Images by Using a Fine-Tuning Strategy\n",
    "\n",
    "link: https://link.springer.com/chapter/10.1007/978-3-319-93000-8_87\n",
    "\n",
    "citation: Brancati, N., Frucci, M., Riccio, D. (2018). Multi-classification of Breast Cancer Histology Images by Using a Fine-Tuning Strategy. In: Campilho, A., Karray, F., ter Haar Romeny, B. (eds) Image Analysis and Recognition. ICIAR 2018. Lecture Notes in Computer Science(), vol 10882. Springer, Cham. https://doi.org/10.1007/978-3-319-93000-8_87\n",
    "\n",
    "phương pháp: Trong công trình này, một chiến lược tinh chỉnh của ResNet, một mạng lưới thần kinh tích chập còn sót lại, được trình bày để giải quyết vấn đề phân loại đa hình ảnh mô học ung thư vú ở mô bình thường, tổn thương lành tính, ung thư biểu mô tại chỗ và ung thư biểu mô xâm lấn. Chúng tôi đã kết hợp ba cấu hình ResNet, khác nhau về số lượng lớp, bằng cách sử dụng quy tắc xác suất tối đa để cân bằng các điểm yếu riêng lẻ của chúng trong quá trình thử nghiệm. \n",
    "\n",
    "Kết quả: Phương pháp đề xuất đã đạt được hiệu suất vượt trội trên các hình ảnh được cung cấp cho Thử thách lớn về hình ảnh mô học ung thư vú (BACH), trong bối cảnh Hội nghị quốc tế ICIAR 2018"
   ]
  },
  {
   "cell_type": "markdown",
   "metadata": {},
   "source": [
    "### Classification Of Breast Cancer Histology Images Using ALEXNET\n",
    "\n",
    "link: https://link.springer.com/chapter/10.1007/978-3-319-93000-8_99\n",
    "\n",
    "citation: Nawaz, W., Ahmed, S., Tahir, A., Khan, H.A. (2018). Classification Of Breast Cancer Histology Images Using ALEXNET. In: Campilho, A., Karray, F., ter Haar Romeny, B. (eds) Image Analysis and Recognition. ICIAR 2018. Lecture Notes in Computer Science(), vol 10882. Springer, Cham. https://doi.org/10.1007/978-3-319-93000-8_99\n",
    "\n",
    "phương pháp: Trong bài báo này, chúng tôi tinh chỉnh mạng nơ ron tích chập sâu (ALEXNET) bằng cách thay đổi và chèn các lớp tích chập của lớp đầu vào và lớp được kết nối đầy đủ. Kết quả thử nghiệm cho thấy phương pháp của chúng tôi đạt được độ chính xác về bản vá và hình ảnh lần lượt là 75,73% và 81,25% trên bộ xác thực và độ chính xác về hình ảnh là 57% trong bộ thử nghiệm ẩn thử thách ung thư vú ICIAR-2018"
   ]
  },
  {
   "cell_type": "markdown",
   "metadata": {},
   "source": [
    "### Classification of breast cancer histology images using incremental boosting convolution networks\n",
    "\n",
    "link: https://www.sciencedirect.com/science/article/abs/pii/S0020025518310466\n",
    "\n",
    "citation: Duc My Vo, Ngoc-Quang Nguyen, Sang-Woong Lee, Classification of breast cancer histology images using incremental boosting convolution networks, Information Sciences, Volume 482, 2019, Pages 123-138, ISSN 0020-0255, https://doi.org/10.1016/j.ins.2018.12.089.\n",
    "\n",
    "phương pháp: Chúng tôi cũng đề xuất một chiến lược tăng cường mới để đạt được mục tiêu chính, nhờ đó hệ thống được làm phong phú một cách hiệu quả bằng cách kết hợp dần dần các mô hình học sâu (bộ phân loại yếu) thành một bộ phân loại mạnh hơn. Hệ thống của chúng tôi được sử dụng để phân loại hình ảnh sinh thiết vú nhuộm hematoxylin và eosin thành hai nhóm chính (ung thư biểu mô và không ung thư) và bốn loại (mô bình thường, tổn thương lành tính, ung thư biểu mô tại chỗ và ung thư biểu mô xâm lấn). Chúng tôi chứng minh các ứng dụng cho hình ảnh mô bệnh học ung thư vú được coi là khó chẩn đoán dựa trên các phương pháp thông thường. Kết quả của chúng tôi chứng minh rằng công cụ phân loại ung thư vú của chúng tôi với mô hình học sâu nâng cao vượt trội đáng kể so với các phương pháp tiên tiến"
   ]
  },
  {
   "cell_type": "markdown",
   "metadata": {},
   "source": [
    "### Classification of Breast Cancer Histology Images Using Transfer Learning\n",
    "\n",
    "link: https://link.springer.com/chapter/10.1007/978-3-319-93000-8_92#citeas\n",
    "\n",
    "citation: Vesal, S., Ravikumar, N., Davari, A., Ellmann, S., Maier, A. (2018). Classification of Breast Cancer Histology Images Using Transfer Learning. In: Campilho, A., Karray, F., ter Haar Romeny, B. (eds) Image Analysis and Recognition. ICIAR 2018. Lecture Notes in Computer Science(), vol 10882. Springer, Cham. https://doi.org/10.1007/978-3-319-93000-8_92\n",
    "\n",
    "phương pháp: Chúng tôi đề xuất một phương pháp tiếp cận dựa trên học chuyển giao, cho nhiệm vụ phân loại hình ảnh mô học vú thành bốn loại mô, đó là ung thư biểu mô bình thường, lành tính, ung thư biểu mô tại chỗ và ung thư biểu mô xâm lấn. Các hình ảnh mô học, được cung cấp như một phần của thử thách lớn BACH 2018, lần đầu tiên được chuẩn hóa để hiệu chỉnh các biến thể màu sắc gây ra trong quá trình chuẩn bị slide. Sau đó, các bản vá hình ảnh được trích xuất và sử dụng để tinh chỉnh mạng thần kinh tích chập Inception-V3 và ResNet50 (CNN) của Google, cả hai đều được đào tạo trước trên cơ sở dữ liệu ImageNet, cho phép chúng tìm hiểu các tính năng dành riêng cho từng miền cần thiết để phân loại mô học hình ảnh. Độ chính xác phân loại được đánh giá bằng cách sử dụng xác nhận chéo 3 lần. Mạng Inception-V3 đạt được độ chính xác kiểm tra trung bình là 97,08% cho bốn lớp, vượt trội hơn một chút so với mạng ResNet50 vốn đạt độ chính xác trung bình là 96,66%."
   ]
  }
 ],
 "metadata": {
  "language_info": {
   "name": "python"
  }
 },
 "nbformat": 4,
 "nbformat_minor": 2
}
